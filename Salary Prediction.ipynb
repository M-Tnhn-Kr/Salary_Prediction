{
 "cells": [
  {
   "cell_type": "code",
   "execution_count": 1,
   "id": "9cc897a6",
   "metadata": {},
   "outputs": [],
   "source": [
    "import pandas as pd\n",
    "pd.set_option(\"display.max_columns\",100)\n",
    "\n",
    "import warnings\n",
    "warnings.filterwarnings(\"ignore\")"
   ]
  },
  {
   "cell_type": "code",
   "execution_count": 2,
   "id": "b33b89d6",
   "metadata": {},
   "outputs": [],
   "source": [
    "hr = pd.read_excel(\"hr.xlsx\")"
   ]
  },
  {
   "cell_type": "code",
   "execution_count": 3,
   "id": "8f628329",
   "metadata": {},
   "outputs": [
    {
     "name": "stdout",
     "output_type": "stream",
     "text": [
      "<class 'pandas.core.frame.DataFrame'>\n",
      "RangeIndex: 1470 entries, 0 to 1469\n",
      "Data columns (total 35 columns):\n",
      " #   Column                    Non-Null Count  Dtype  \n",
      "---  ------                    --------------  -----  \n",
      " 0   Age                       1470 non-null   int64  \n",
      " 1   Attrition                 1205 non-null   object \n",
      " 2   BusinessTravel            1470 non-null   object \n",
      " 3   DailyRate                 1470 non-null   int64  \n",
      " 4   Department                1470 non-null   object \n",
      " 5   DistanceFromHome          1470 non-null   int64  \n",
      " 6   Education                 1470 non-null   int64  \n",
      " 7   EducationField            1470 non-null   object \n",
      " 8   EmployeeCount             1470 non-null   int64  \n",
      " 9   EmployeeNumber            1470 non-null   int64  \n",
      " 10  EnvironmentSatisfaction   1470 non-null   int64  \n",
      " 11  Gender                    1470 non-null   object \n",
      " 12  HourlyRate                1470 non-null   int64  \n",
      " 13  JobInvolvement            1470 non-null   int64  \n",
      " 14  JobLevel                  1470 non-null   int64  \n",
      " 15  JobRole                   1470 non-null   object \n",
      " 16  JobSatisfaction           1470 non-null   int64  \n",
      " 17  MaritalStatus             1470 non-null   object \n",
      " 18  MonthlyIncome             1205 non-null   float64\n",
      " 19  MonthlyRate               1470 non-null   int64  \n",
      " 20  NumCompaniesWorked        1470 non-null   int64  \n",
      " 21  Over18                    1470 non-null   object \n",
      " 22  OverTime                  1470 non-null   object \n",
      " 23  PercentSalaryHike         1470 non-null   int64  \n",
      " 24  PerformanceRating         1470 non-null   int64  \n",
      " 25  RelationshipSatisfaction  1470 non-null   int64  \n",
      " 26  StandardHours             1470 non-null   int64  \n",
      " 27  StockOptionLevel          1470 non-null   int64  \n",
      " 28  TotalWorkingYears         1470 non-null   int64  \n",
      " 29  TrainingTimesLastYear     1470 non-null   int64  \n",
      " 30  WorkLifeBalance           1470 non-null   int64  \n",
      " 31  YearsAtCompany            1470 non-null   int64  \n",
      " 32  YearsInCurrentRole        1470 non-null   int64  \n",
      " 33  YearsSinceLastPromotion   1470 non-null   int64  \n",
      " 34  YearsWithCurrManager      1470 non-null   int64  \n",
      "dtypes: float64(1), int64(25), object(9)\n",
      "memory usage: 402.1+ KB\n"
     ]
    }
   ],
   "source": [
    "hr.info()"
   ]
  },
  {
   "cell_type": "code",
   "execution_count": 4,
   "id": "716d4c2f",
   "metadata": {
    "scrolled": true
   },
   "outputs": [
    {
     "data": {
      "text/plain": [
       "Attrition        265\n",
       "MonthlyIncome    265\n",
       "dtype: int64"
      ]
     },
     "execution_count": 4,
     "metadata": {},
     "output_type": "execute_result"
    }
   ],
   "source": [
    "hr.isnull().sum()[hr.isnull().sum()>0]"
   ]
  },
  {
   "cell_type": "code",
   "execution_count": 5,
   "id": "85f83b35",
   "metadata": {},
   "outputs": [
    {
     "data": {
      "text/html": [
       "<div>\n",
       "<style scoped>\n",
       "    .dataframe tbody tr th:only-of-type {\n",
       "        vertical-align: middle;\n",
       "    }\n",
       "\n",
       "    .dataframe tbody tr th {\n",
       "        vertical-align: top;\n",
       "    }\n",
       "\n",
       "    .dataframe thead th {\n",
       "        text-align: right;\n",
       "    }\n",
       "</style>\n",
       "<table border=\"1\" class=\"dataframe\">\n",
       "  <thead>\n",
       "    <tr style=\"text-align: right;\">\n",
       "      <th></th>\n",
       "      <th>Age</th>\n",
       "      <th>Attrition</th>\n",
       "      <th>BusinessTravel</th>\n",
       "      <th>DailyRate</th>\n",
       "      <th>Department</th>\n",
       "      <th>DistanceFromHome</th>\n",
       "      <th>Education</th>\n",
       "      <th>EducationField</th>\n",
       "      <th>EmployeeCount</th>\n",
       "      <th>EmployeeNumber</th>\n",
       "      <th>EnvironmentSatisfaction</th>\n",
       "      <th>Gender</th>\n",
       "      <th>HourlyRate</th>\n",
       "      <th>JobInvolvement</th>\n",
       "      <th>JobLevel</th>\n",
       "      <th>JobRole</th>\n",
       "      <th>JobSatisfaction</th>\n",
       "      <th>MaritalStatus</th>\n",
       "      <th>MonthlyIncome</th>\n",
       "      <th>MonthlyRate</th>\n",
       "      <th>NumCompaniesWorked</th>\n",
       "      <th>Over18</th>\n",
       "      <th>OverTime</th>\n",
       "      <th>PercentSalaryHike</th>\n",
       "      <th>PerformanceRating</th>\n",
       "      <th>RelationshipSatisfaction</th>\n",
       "      <th>StandardHours</th>\n",
       "      <th>StockOptionLevel</th>\n",
       "      <th>TotalWorkingYears</th>\n",
       "      <th>TrainingTimesLastYear</th>\n",
       "      <th>WorkLifeBalance</th>\n",
       "      <th>YearsAtCompany</th>\n",
       "      <th>YearsInCurrentRole</th>\n",
       "      <th>YearsSinceLastPromotion</th>\n",
       "      <th>YearsWithCurrManager</th>\n",
       "    </tr>\n",
       "  </thead>\n",
       "  <tbody>\n",
       "    <tr>\n",
       "      <th>917</th>\n",
       "      <td>34</td>\n",
       "      <td>No</td>\n",
       "      <td>Travel_Rarely</td>\n",
       "      <td>131</td>\n",
       "      <td>Sales</td>\n",
       "      <td>2</td>\n",
       "      <td>3</td>\n",
       "      <td>Marketing</td>\n",
       "      <td>1</td>\n",
       "      <td>1281</td>\n",
       "      <td>3</td>\n",
       "      <td>Female</td>\n",
       "      <td>86</td>\n",
       "      <td>3</td>\n",
       "      <td>2</td>\n",
       "      <td>Sales Executive</td>\n",
       "      <td>1</td>\n",
       "      <td>Single</td>\n",
       "      <td>4538.0</td>\n",
       "      <td>6039</td>\n",
       "      <td>0</td>\n",
       "      <td>Y</td>\n",
       "      <td>Yes</td>\n",
       "      <td>12</td>\n",
       "      <td>3</td>\n",
       "      <td>4</td>\n",
       "      <td>80</td>\n",
       "      <td>0</td>\n",
       "      <td>4</td>\n",
       "      <td>3</td>\n",
       "      <td>3</td>\n",
       "      <td>3</td>\n",
       "      <td>2</td>\n",
       "      <td>0</td>\n",
       "      <td>2</td>\n",
       "    </tr>\n",
       "    <tr>\n",
       "      <th>1421</th>\n",
       "      <td>47</td>\n",
       "      <td>No</td>\n",
       "      <td>Non-Travel</td>\n",
       "      <td>1162</td>\n",
       "      <td>Research &amp; Development</td>\n",
       "      <td>1</td>\n",
       "      <td>1</td>\n",
       "      <td>Medical</td>\n",
       "      <td>1</td>\n",
       "      <td>2000</td>\n",
       "      <td>3</td>\n",
       "      <td>Female</td>\n",
       "      <td>98</td>\n",
       "      <td>3</td>\n",
       "      <td>3</td>\n",
       "      <td>Research Director</td>\n",
       "      <td>2</td>\n",
       "      <td>Married</td>\n",
       "      <td>11957.0</td>\n",
       "      <td>17231</td>\n",
       "      <td>0</td>\n",
       "      <td>Y</td>\n",
       "      <td>No</td>\n",
       "      <td>18</td>\n",
       "      <td>3</td>\n",
       "      <td>1</td>\n",
       "      <td>80</td>\n",
       "      <td>2</td>\n",
       "      <td>14</td>\n",
       "      <td>3</td>\n",
       "      <td>1</td>\n",
       "      <td>13</td>\n",
       "      <td>8</td>\n",
       "      <td>5</td>\n",
       "      <td>12</td>\n",
       "    </tr>\n",
       "    <tr>\n",
       "      <th>322</th>\n",
       "      <td>32</td>\n",
       "      <td>No</td>\n",
       "      <td>Travel_Rarely</td>\n",
       "      <td>1018</td>\n",
       "      <td>Research &amp; Development</td>\n",
       "      <td>2</td>\n",
       "      <td>4</td>\n",
       "      <td>Medical</td>\n",
       "      <td>1</td>\n",
       "      <td>439</td>\n",
       "      <td>1</td>\n",
       "      <td>Female</td>\n",
       "      <td>74</td>\n",
       "      <td>4</td>\n",
       "      <td>2</td>\n",
       "      <td>Research Scientist</td>\n",
       "      <td>4</td>\n",
       "      <td>Single</td>\n",
       "      <td>5055.0</td>\n",
       "      <td>10557</td>\n",
       "      <td>7</td>\n",
       "      <td>Y</td>\n",
       "      <td>No</td>\n",
       "      <td>16</td>\n",
       "      <td>3</td>\n",
       "      <td>3</td>\n",
       "      <td>80</td>\n",
       "      <td>0</td>\n",
       "      <td>10</td>\n",
       "      <td>0</td>\n",
       "      <td>2</td>\n",
       "      <td>7</td>\n",
       "      <td>7</td>\n",
       "      <td>0</td>\n",
       "      <td>7</td>\n",
       "    </tr>\n",
       "    <tr>\n",
       "      <th>947</th>\n",
       "      <td>52</td>\n",
       "      <td>Yes</td>\n",
       "      <td>Travel_Rarely</td>\n",
       "      <td>1030</td>\n",
       "      <td>Sales</td>\n",
       "      <td>5</td>\n",
       "      <td>3</td>\n",
       "      <td>Life Sciences</td>\n",
       "      <td>1</td>\n",
       "      <td>1319</td>\n",
       "      <td>2</td>\n",
       "      <td>Male</td>\n",
       "      <td>64</td>\n",
       "      <td>3</td>\n",
       "      <td>3</td>\n",
       "      <td>Sales Executive</td>\n",
       "      <td>2</td>\n",
       "      <td>Single</td>\n",
       "      <td>8446.0</td>\n",
       "      <td>21534</td>\n",
       "      <td>9</td>\n",
       "      <td>Y</td>\n",
       "      <td>Yes</td>\n",
       "      <td>19</td>\n",
       "      <td>3</td>\n",
       "      <td>3</td>\n",
       "      <td>80</td>\n",
       "      <td>0</td>\n",
       "      <td>10</td>\n",
       "      <td>2</td>\n",
       "      <td>2</td>\n",
       "      <td>8</td>\n",
       "      <td>7</td>\n",
       "      <td>7</td>\n",
       "      <td>7</td>\n",
       "    </tr>\n",
       "    <tr>\n",
       "      <th>222</th>\n",
       "      <td>37</td>\n",
       "      <td>No</td>\n",
       "      <td>Travel_Frequently</td>\n",
       "      <td>663</td>\n",
       "      <td>Research &amp; Development</td>\n",
       "      <td>11</td>\n",
       "      <td>3</td>\n",
       "      <td>Other</td>\n",
       "      <td>1</td>\n",
       "      <td>306</td>\n",
       "      <td>2</td>\n",
       "      <td>Male</td>\n",
       "      <td>47</td>\n",
       "      <td>3</td>\n",
       "      <td>3</td>\n",
       "      <td>Research Director</td>\n",
       "      <td>4</td>\n",
       "      <td>Divorced</td>\n",
       "      <td>12185.0</td>\n",
       "      <td>10056</td>\n",
       "      <td>1</td>\n",
       "      <td>Y</td>\n",
       "      <td>Yes</td>\n",
       "      <td>14</td>\n",
       "      <td>3</td>\n",
       "      <td>3</td>\n",
       "      <td>80</td>\n",
       "      <td>3</td>\n",
       "      <td>10</td>\n",
       "      <td>1</td>\n",
       "      <td>3</td>\n",
       "      <td>10</td>\n",
       "      <td>8</td>\n",
       "      <td>0</td>\n",
       "      <td>7</td>\n",
       "    </tr>\n",
       "    <tr>\n",
       "      <th>1451</th>\n",
       "      <td>38</td>\n",
       "      <td>NaN</td>\n",
       "      <td>Travel_Rarely</td>\n",
       "      <td>345</td>\n",
       "      <td>Sales</td>\n",
       "      <td>10</td>\n",
       "      <td>2</td>\n",
       "      <td>Life Sciences</td>\n",
       "      <td>1</td>\n",
       "      <td>2041</td>\n",
       "      <td>1</td>\n",
       "      <td>Female</td>\n",
       "      <td>100</td>\n",
       "      <td>3</td>\n",
       "      <td>2</td>\n",
       "      <td>Sales Executive</td>\n",
       "      <td>4</td>\n",
       "      <td>Married</td>\n",
       "      <td>NaN</td>\n",
       "      <td>5982</td>\n",
       "      <td>1</td>\n",
       "      <td>Y</td>\n",
       "      <td>No</td>\n",
       "      <td>11</td>\n",
       "      <td>3</td>\n",
       "      <td>3</td>\n",
       "      <td>80</td>\n",
       "      <td>1</td>\n",
       "      <td>10</td>\n",
       "      <td>1</td>\n",
       "      <td>3</td>\n",
       "      <td>10</td>\n",
       "      <td>7</td>\n",
       "      <td>1</td>\n",
       "      <td>9</td>\n",
       "    </tr>\n",
       "    <tr>\n",
       "      <th>458</th>\n",
       "      <td>40</td>\n",
       "      <td>No</td>\n",
       "      <td>Non-Travel</td>\n",
       "      <td>1094</td>\n",
       "      <td>Sales</td>\n",
       "      <td>28</td>\n",
       "      <td>3</td>\n",
       "      <td>Other</td>\n",
       "      <td>1</td>\n",
       "      <td>615</td>\n",
       "      <td>3</td>\n",
       "      <td>Male</td>\n",
       "      <td>58</td>\n",
       "      <td>1</td>\n",
       "      <td>3</td>\n",
       "      <td>Sales Executive</td>\n",
       "      <td>1</td>\n",
       "      <td>Divorced</td>\n",
       "      <td>10932.0</td>\n",
       "      <td>11373</td>\n",
       "      <td>3</td>\n",
       "      <td>Y</td>\n",
       "      <td>No</td>\n",
       "      <td>15</td>\n",
       "      <td>3</td>\n",
       "      <td>3</td>\n",
       "      <td>80</td>\n",
       "      <td>1</td>\n",
       "      <td>20</td>\n",
       "      <td>2</td>\n",
       "      <td>3</td>\n",
       "      <td>1</td>\n",
       "      <td>0</td>\n",
       "      <td>0</td>\n",
       "      <td>1</td>\n",
       "    </tr>\n",
       "  </tbody>\n",
       "</table>\n",
       "</div>"
      ],
      "text/plain": [
       "      Age Attrition     BusinessTravel  DailyRate              Department  \\\n",
       "917    34        No      Travel_Rarely        131                   Sales   \n",
       "1421   47        No         Non-Travel       1162  Research & Development   \n",
       "322    32        No      Travel_Rarely       1018  Research & Development   \n",
       "947    52       Yes      Travel_Rarely       1030                   Sales   \n",
       "222    37        No  Travel_Frequently        663  Research & Development   \n",
       "1451   38       NaN      Travel_Rarely        345                   Sales   \n",
       "458    40        No         Non-Travel       1094                   Sales   \n",
       "\n",
       "      DistanceFromHome  Education EducationField  EmployeeCount  \\\n",
       "917                  2          3      Marketing              1   \n",
       "1421                 1          1        Medical              1   \n",
       "322                  2          4        Medical              1   \n",
       "947                  5          3  Life Sciences              1   \n",
       "222                 11          3          Other              1   \n",
       "1451                10          2  Life Sciences              1   \n",
       "458                 28          3          Other              1   \n",
       "\n",
       "      EmployeeNumber  EnvironmentSatisfaction  Gender  HourlyRate  \\\n",
       "917             1281                        3  Female          86   \n",
       "1421            2000                        3  Female          98   \n",
       "322              439                        1  Female          74   \n",
       "947             1319                        2    Male          64   \n",
       "222              306                        2    Male          47   \n",
       "1451            2041                        1  Female         100   \n",
       "458              615                        3    Male          58   \n",
       "\n",
       "      JobInvolvement  JobLevel             JobRole  JobSatisfaction  \\\n",
       "917                3         2     Sales Executive                1   \n",
       "1421               3         3   Research Director                2   \n",
       "322                4         2  Research Scientist                4   \n",
       "947                3         3     Sales Executive                2   \n",
       "222                3         3   Research Director                4   \n",
       "1451               3         2     Sales Executive                4   \n",
       "458                1         3     Sales Executive                1   \n",
       "\n",
       "     MaritalStatus  MonthlyIncome  MonthlyRate  NumCompaniesWorked Over18  \\\n",
       "917         Single         4538.0         6039                   0      Y   \n",
       "1421       Married        11957.0        17231                   0      Y   \n",
       "322         Single         5055.0        10557                   7      Y   \n",
       "947         Single         8446.0        21534                   9      Y   \n",
       "222       Divorced        12185.0        10056                   1      Y   \n",
       "1451       Married            NaN         5982                   1      Y   \n",
       "458       Divorced        10932.0        11373                   3      Y   \n",
       "\n",
       "     OverTime  PercentSalaryHike  PerformanceRating  RelationshipSatisfaction  \\\n",
       "917       Yes                 12                  3                         4   \n",
       "1421       No                 18                  3                         1   \n",
       "322        No                 16                  3                         3   \n",
       "947       Yes                 19                  3                         3   \n",
       "222       Yes                 14                  3                         3   \n",
       "1451       No                 11                  3                         3   \n",
       "458        No                 15                  3                         3   \n",
       "\n",
       "      StandardHours  StockOptionLevel  TotalWorkingYears  \\\n",
       "917              80                 0                  4   \n",
       "1421             80                 2                 14   \n",
       "322              80                 0                 10   \n",
       "947              80                 0                 10   \n",
       "222              80                 3                 10   \n",
       "1451             80                 1                 10   \n",
       "458              80                 1                 20   \n",
       "\n",
       "      TrainingTimesLastYear  WorkLifeBalance  YearsAtCompany  \\\n",
       "917                       3                3               3   \n",
       "1421                      3                1              13   \n",
       "322                       0                2               7   \n",
       "947                       2                2               8   \n",
       "222                       1                3              10   \n",
       "1451                      1                3              10   \n",
       "458                       2                3               1   \n",
       "\n",
       "      YearsInCurrentRole  YearsSinceLastPromotion  YearsWithCurrManager  \n",
       "917                    2                        0                     2  \n",
       "1421                   8                        5                    12  \n",
       "322                    7                        0                     7  \n",
       "947                    7                        7                     7  \n",
       "222                    8                        0                     7  \n",
       "1451                   7                        1                     9  \n",
       "458                    0                        0                     1  "
      ]
     },
     "execution_count": 5,
     "metadata": {},
     "output_type": "execute_result"
    }
   ],
   "source": [
    "hr.sample(7)"
   ]
  },
  {
   "cell_type": "code",
   "execution_count": 6,
   "id": "f48fa67d",
   "metadata": {},
   "outputs": [
    {
     "data": {
      "text/html": [
       "<div>\n",
       "<style scoped>\n",
       "    .dataframe tbody tr th:only-of-type {\n",
       "        vertical-align: middle;\n",
       "    }\n",
       "\n",
       "    .dataframe tbody tr th {\n",
       "        vertical-align: top;\n",
       "    }\n",
       "\n",
       "    .dataframe thead th {\n",
       "        text-align: right;\n",
       "    }\n",
       "</style>\n",
       "<table border=\"1\" class=\"dataframe\">\n",
       "  <thead>\n",
       "    <tr style=\"text-align: right;\">\n",
       "      <th></th>\n",
       "      <th>Age</th>\n",
       "      <th>DailyRate</th>\n",
       "      <th>DistanceFromHome</th>\n",
       "      <th>Education</th>\n",
       "      <th>EmployeeCount</th>\n",
       "      <th>EmployeeNumber</th>\n",
       "      <th>EnvironmentSatisfaction</th>\n",
       "      <th>HourlyRate</th>\n",
       "      <th>JobInvolvement</th>\n",
       "      <th>JobLevel</th>\n",
       "      <th>JobSatisfaction</th>\n",
       "      <th>MonthlyIncome</th>\n",
       "      <th>MonthlyRate</th>\n",
       "      <th>NumCompaniesWorked</th>\n",
       "      <th>PercentSalaryHike</th>\n",
       "      <th>PerformanceRating</th>\n",
       "      <th>RelationshipSatisfaction</th>\n",
       "      <th>StandardHours</th>\n",
       "      <th>StockOptionLevel</th>\n",
       "      <th>TotalWorkingYears</th>\n",
       "      <th>TrainingTimesLastYear</th>\n",
       "      <th>WorkLifeBalance</th>\n",
       "      <th>YearsAtCompany</th>\n",
       "      <th>YearsInCurrentRole</th>\n",
       "      <th>YearsSinceLastPromotion</th>\n",
       "      <th>YearsWithCurrManager</th>\n",
       "    </tr>\n",
       "  </thead>\n",
       "  <tbody>\n",
       "    <tr>\n",
       "      <th>count</th>\n",
       "      <td>1470.000000</td>\n",
       "      <td>1470.000000</td>\n",
       "      <td>1470.000000</td>\n",
       "      <td>1470.000000</td>\n",
       "      <td>1470.0</td>\n",
       "      <td>1470.000000</td>\n",
       "      <td>1470.000000</td>\n",
       "      <td>1470.000000</td>\n",
       "      <td>1470.000000</td>\n",
       "      <td>1470.000000</td>\n",
       "      <td>1470.000000</td>\n",
       "      <td>1205.000000</td>\n",
       "      <td>1470.000000</td>\n",
       "      <td>1470.000000</td>\n",
       "      <td>1470.000000</td>\n",
       "      <td>1470.000000</td>\n",
       "      <td>1470.000000</td>\n",
       "      <td>1470.0</td>\n",
       "      <td>1470.000000</td>\n",
       "      <td>1470.000000</td>\n",
       "      <td>1470.000000</td>\n",
       "      <td>1470.000000</td>\n",
       "      <td>1470.000000</td>\n",
       "      <td>1470.000000</td>\n",
       "      <td>1470.000000</td>\n",
       "      <td>1470.000000</td>\n",
       "    </tr>\n",
       "    <tr>\n",
       "      <th>mean</th>\n",
       "      <td>36.923810</td>\n",
       "      <td>802.485714</td>\n",
       "      <td>9.192517</td>\n",
       "      <td>2.912925</td>\n",
       "      <td>1.0</td>\n",
       "      <td>1024.865306</td>\n",
       "      <td>2.721769</td>\n",
       "      <td>65.891156</td>\n",
       "      <td>2.729932</td>\n",
       "      <td>2.063946</td>\n",
       "      <td>2.728571</td>\n",
       "      <td>6523.930290</td>\n",
       "      <td>14313.103401</td>\n",
       "      <td>2.693197</td>\n",
       "      <td>15.209524</td>\n",
       "      <td>3.153741</td>\n",
       "      <td>2.712245</td>\n",
       "      <td>80.0</td>\n",
       "      <td>0.793878</td>\n",
       "      <td>11.279592</td>\n",
       "      <td>2.799320</td>\n",
       "      <td>2.761224</td>\n",
       "      <td>7.008163</td>\n",
       "      <td>4.229252</td>\n",
       "      <td>2.187755</td>\n",
       "      <td>4.123129</td>\n",
       "    </tr>\n",
       "    <tr>\n",
       "      <th>std</th>\n",
       "      <td>9.135373</td>\n",
       "      <td>403.509100</td>\n",
       "      <td>8.106864</td>\n",
       "      <td>1.024165</td>\n",
       "      <td>0.0</td>\n",
       "      <td>602.024335</td>\n",
       "      <td>1.093082</td>\n",
       "      <td>20.329428</td>\n",
       "      <td>0.711561</td>\n",
       "      <td>1.106940</td>\n",
       "      <td>1.102846</td>\n",
       "      <td>4756.215086</td>\n",
       "      <td>7117.786044</td>\n",
       "      <td>2.498009</td>\n",
       "      <td>3.659938</td>\n",
       "      <td>0.360824</td>\n",
       "      <td>1.081209</td>\n",
       "      <td>0.0</td>\n",
       "      <td>0.852077</td>\n",
       "      <td>7.780782</td>\n",
       "      <td>1.289271</td>\n",
       "      <td>0.706476</td>\n",
       "      <td>6.126525</td>\n",
       "      <td>3.623137</td>\n",
       "      <td>3.222430</td>\n",
       "      <td>3.568136</td>\n",
       "    </tr>\n",
       "    <tr>\n",
       "      <th>min</th>\n",
       "      <td>18.000000</td>\n",
       "      <td>102.000000</td>\n",
       "      <td>1.000000</td>\n",
       "      <td>1.000000</td>\n",
       "      <td>1.0</td>\n",
       "      <td>1.000000</td>\n",
       "      <td>1.000000</td>\n",
       "      <td>30.000000</td>\n",
       "      <td>1.000000</td>\n",
       "      <td>1.000000</td>\n",
       "      <td>1.000000</td>\n",
       "      <td>1051.000000</td>\n",
       "      <td>2094.000000</td>\n",
       "      <td>0.000000</td>\n",
       "      <td>11.000000</td>\n",
       "      <td>3.000000</td>\n",
       "      <td>1.000000</td>\n",
       "      <td>80.0</td>\n",
       "      <td>0.000000</td>\n",
       "      <td>0.000000</td>\n",
       "      <td>0.000000</td>\n",
       "      <td>1.000000</td>\n",
       "      <td>0.000000</td>\n",
       "      <td>0.000000</td>\n",
       "      <td>0.000000</td>\n",
       "      <td>0.000000</td>\n",
       "    </tr>\n",
       "    <tr>\n",
       "      <th>25%</th>\n",
       "      <td>30.000000</td>\n",
       "      <td>465.000000</td>\n",
       "      <td>2.000000</td>\n",
       "      <td>2.000000</td>\n",
       "      <td>1.0</td>\n",
       "      <td>491.250000</td>\n",
       "      <td>2.000000</td>\n",
       "      <td>48.000000</td>\n",
       "      <td>2.000000</td>\n",
       "      <td>1.000000</td>\n",
       "      <td>2.000000</td>\n",
       "      <td>2897.000000</td>\n",
       "      <td>8047.000000</td>\n",
       "      <td>1.000000</td>\n",
       "      <td>12.000000</td>\n",
       "      <td>3.000000</td>\n",
       "      <td>2.000000</td>\n",
       "      <td>80.0</td>\n",
       "      <td>0.000000</td>\n",
       "      <td>6.000000</td>\n",
       "      <td>2.000000</td>\n",
       "      <td>2.000000</td>\n",
       "      <td>3.000000</td>\n",
       "      <td>2.000000</td>\n",
       "      <td>0.000000</td>\n",
       "      <td>2.000000</td>\n",
       "    </tr>\n",
       "    <tr>\n",
       "      <th>50%</th>\n",
       "      <td>36.000000</td>\n",
       "      <td>802.000000</td>\n",
       "      <td>7.000000</td>\n",
       "      <td>3.000000</td>\n",
       "      <td>1.0</td>\n",
       "      <td>1020.500000</td>\n",
       "      <td>3.000000</td>\n",
       "      <td>66.000000</td>\n",
       "      <td>3.000000</td>\n",
       "      <td>2.000000</td>\n",
       "      <td>3.000000</td>\n",
       "      <td>4936.000000</td>\n",
       "      <td>14235.500000</td>\n",
       "      <td>2.000000</td>\n",
       "      <td>14.000000</td>\n",
       "      <td>3.000000</td>\n",
       "      <td>3.000000</td>\n",
       "      <td>80.0</td>\n",
       "      <td>1.000000</td>\n",
       "      <td>10.000000</td>\n",
       "      <td>3.000000</td>\n",
       "      <td>3.000000</td>\n",
       "      <td>5.000000</td>\n",
       "      <td>3.000000</td>\n",
       "      <td>1.000000</td>\n",
       "      <td>3.000000</td>\n",
       "    </tr>\n",
       "    <tr>\n",
       "      <th>75%</th>\n",
       "      <td>43.000000</td>\n",
       "      <td>1157.000000</td>\n",
       "      <td>14.000000</td>\n",
       "      <td>4.000000</td>\n",
       "      <td>1.0</td>\n",
       "      <td>1555.750000</td>\n",
       "      <td>4.000000</td>\n",
       "      <td>83.750000</td>\n",
       "      <td>3.000000</td>\n",
       "      <td>3.000000</td>\n",
       "      <td>4.000000</td>\n",
       "      <td>8237.000000</td>\n",
       "      <td>20461.500000</td>\n",
       "      <td>4.000000</td>\n",
       "      <td>18.000000</td>\n",
       "      <td>3.000000</td>\n",
       "      <td>4.000000</td>\n",
       "      <td>80.0</td>\n",
       "      <td>1.000000</td>\n",
       "      <td>15.000000</td>\n",
       "      <td>3.000000</td>\n",
       "      <td>3.000000</td>\n",
       "      <td>9.000000</td>\n",
       "      <td>7.000000</td>\n",
       "      <td>3.000000</td>\n",
       "      <td>7.000000</td>\n",
       "    </tr>\n",
       "    <tr>\n",
       "      <th>max</th>\n",
       "      <td>60.000000</td>\n",
       "      <td>1499.000000</td>\n",
       "      <td>29.000000</td>\n",
       "      <td>5.000000</td>\n",
       "      <td>1.0</td>\n",
       "      <td>2068.000000</td>\n",
       "      <td>4.000000</td>\n",
       "      <td>100.000000</td>\n",
       "      <td>4.000000</td>\n",
       "      <td>5.000000</td>\n",
       "      <td>4.000000</td>\n",
       "      <td>19999.000000</td>\n",
       "      <td>26999.000000</td>\n",
       "      <td>9.000000</td>\n",
       "      <td>25.000000</td>\n",
       "      <td>4.000000</td>\n",
       "      <td>4.000000</td>\n",
       "      <td>80.0</td>\n",
       "      <td>3.000000</td>\n",
       "      <td>40.000000</td>\n",
       "      <td>6.000000</td>\n",
       "      <td>4.000000</td>\n",
       "      <td>40.000000</td>\n",
       "      <td>18.000000</td>\n",
       "      <td>15.000000</td>\n",
       "      <td>17.000000</td>\n",
       "    </tr>\n",
       "  </tbody>\n",
       "</table>\n",
       "</div>"
      ],
      "text/plain": [
       "               Age    DailyRate  DistanceFromHome    Education  EmployeeCount  \\\n",
       "count  1470.000000  1470.000000       1470.000000  1470.000000         1470.0   \n",
       "mean     36.923810   802.485714          9.192517     2.912925            1.0   \n",
       "std       9.135373   403.509100          8.106864     1.024165            0.0   \n",
       "min      18.000000   102.000000          1.000000     1.000000            1.0   \n",
       "25%      30.000000   465.000000          2.000000     2.000000            1.0   \n",
       "50%      36.000000   802.000000          7.000000     3.000000            1.0   \n",
       "75%      43.000000  1157.000000         14.000000     4.000000            1.0   \n",
       "max      60.000000  1499.000000         29.000000     5.000000            1.0   \n",
       "\n",
       "       EmployeeNumber  EnvironmentSatisfaction   HourlyRate  JobInvolvement  \\\n",
       "count     1470.000000              1470.000000  1470.000000     1470.000000   \n",
       "mean      1024.865306                 2.721769    65.891156        2.729932   \n",
       "std        602.024335                 1.093082    20.329428        0.711561   \n",
       "min          1.000000                 1.000000    30.000000        1.000000   \n",
       "25%        491.250000                 2.000000    48.000000        2.000000   \n",
       "50%       1020.500000                 3.000000    66.000000        3.000000   \n",
       "75%       1555.750000                 4.000000    83.750000        3.000000   \n",
       "max       2068.000000                 4.000000   100.000000        4.000000   \n",
       "\n",
       "          JobLevel  JobSatisfaction  MonthlyIncome   MonthlyRate  \\\n",
       "count  1470.000000      1470.000000    1205.000000   1470.000000   \n",
       "mean      2.063946         2.728571    6523.930290  14313.103401   \n",
       "std       1.106940         1.102846    4756.215086   7117.786044   \n",
       "min       1.000000         1.000000    1051.000000   2094.000000   \n",
       "25%       1.000000         2.000000    2897.000000   8047.000000   \n",
       "50%       2.000000         3.000000    4936.000000  14235.500000   \n",
       "75%       3.000000         4.000000    8237.000000  20461.500000   \n",
       "max       5.000000         4.000000   19999.000000  26999.000000   \n",
       "\n",
       "       NumCompaniesWorked  PercentSalaryHike  PerformanceRating  \\\n",
       "count         1470.000000        1470.000000        1470.000000   \n",
       "mean             2.693197          15.209524           3.153741   \n",
       "std              2.498009           3.659938           0.360824   \n",
       "min              0.000000          11.000000           3.000000   \n",
       "25%              1.000000          12.000000           3.000000   \n",
       "50%              2.000000          14.000000           3.000000   \n",
       "75%              4.000000          18.000000           3.000000   \n",
       "max              9.000000          25.000000           4.000000   \n",
       "\n",
       "       RelationshipSatisfaction  StandardHours  StockOptionLevel  \\\n",
       "count               1470.000000         1470.0       1470.000000   \n",
       "mean                   2.712245           80.0          0.793878   \n",
       "std                    1.081209            0.0          0.852077   \n",
       "min                    1.000000           80.0          0.000000   \n",
       "25%                    2.000000           80.0          0.000000   \n",
       "50%                    3.000000           80.0          1.000000   \n",
       "75%                    4.000000           80.0          1.000000   \n",
       "max                    4.000000           80.0          3.000000   \n",
       "\n",
       "       TotalWorkingYears  TrainingTimesLastYear  WorkLifeBalance  \\\n",
       "count        1470.000000            1470.000000      1470.000000   \n",
       "mean           11.279592               2.799320         2.761224   \n",
       "std             7.780782               1.289271         0.706476   \n",
       "min             0.000000               0.000000         1.000000   \n",
       "25%             6.000000               2.000000         2.000000   \n",
       "50%            10.000000               3.000000         3.000000   \n",
       "75%            15.000000               3.000000         3.000000   \n",
       "max            40.000000               6.000000         4.000000   \n",
       "\n",
       "       YearsAtCompany  YearsInCurrentRole  YearsSinceLastPromotion  \\\n",
       "count     1470.000000         1470.000000              1470.000000   \n",
       "mean         7.008163            4.229252                 2.187755   \n",
       "std          6.126525            3.623137                 3.222430   \n",
       "min          0.000000            0.000000                 0.000000   \n",
       "25%          3.000000            2.000000                 0.000000   \n",
       "50%          5.000000            3.000000                 1.000000   \n",
       "75%          9.000000            7.000000                 3.000000   \n",
       "max         40.000000           18.000000                15.000000   \n",
       "\n",
       "       YearsWithCurrManager  \n",
       "count           1470.000000  \n",
       "mean               4.123129  \n",
       "std                3.568136  \n",
       "min                0.000000  \n",
       "25%                2.000000  \n",
       "50%                3.000000  \n",
       "75%                7.000000  \n",
       "max               17.000000  "
      ]
     },
     "execution_count": 6,
     "metadata": {},
     "output_type": "execute_result"
    }
   ],
   "source": [
    "hr.describe()"
   ]
  },
  {
   "cell_type": "markdown",
   "id": "8ccbc133",
   "metadata": {},
   "source": [
    "---\n",
    "### EDA "
   ]
  },
  {
   "cell_type": "code",
   "execution_count": 7,
   "id": "75613d0e",
   "metadata": {},
   "outputs": [
    {
     "data": {
      "text/plain": [
       "array(['Single', 'Married', 'Divorced'], dtype=object)"
      ]
     },
     "execution_count": 7,
     "metadata": {},
     "output_type": "execute_result"
    }
   ],
   "source": [
    "hr.MaritalStatus.unique()"
   ]
  },
  {
   "cell_type": "code",
   "execution_count": 8,
   "id": "da02a791",
   "metadata": {},
   "outputs": [
    {
     "data": {
      "text/plain": [
       "Married     673\n",
       "Single      470\n",
       "Divorced    327\n",
       "Name: MaritalStatus, dtype: int64"
      ]
     },
     "execution_count": 8,
     "metadata": {},
     "output_type": "execute_result"
    }
   ],
   "source": [
    "hr.MaritalStatus.value_counts()"
   ]
  },
  {
   "cell_type": "code",
   "execution_count": 9,
   "id": "d04f9905",
   "metadata": {},
   "outputs": [],
   "source": [
    "df = hr.copy()\n",
    "del df[\"Attrition\"]"
   ]
  },
  {
   "cell_type": "code",
   "execution_count": 10,
   "id": "15216dfa",
   "metadata": {},
   "outputs": [
    {
     "data": {
      "text/plain": [
       "((265, 34), (1205, 34))"
      ]
     },
     "execution_count": 10,
     "metadata": {},
     "output_type": "execute_result"
    }
   ],
   "source": [
    "missing = df[df[\"MonthlyIncome\"].isnull()]\n",
    "filled = df[df[\"MonthlyIncome\"].notnull()]\n",
    "\n",
    "missing.shape, filled.shape "
   ]
  },
  {
   "cell_type": "markdown",
   "id": "0403e438",
   "metadata": {},
   "source": [
    "### <p style=\"color:red\">NOT:</p> Bu örnekte bazı satırlar için sonucu (Monthly Income) verilmiş bazılarında ise eksik. Biz bilinenleri train datası olarak bilinmeyenleri de test datası olarak kullanacağız."
   ]
  },
  {
   "cell_type": "code",
   "execution_count": 11,
   "id": "30f2a793",
   "metadata": {},
   "outputs": [
    {
     "data": {
      "text/plain": [
       "MonthlyIncome               1.000000\n",
       "JobLevel                    0.951287\n",
       "TotalWorkingYears           0.780438\n",
       "YearsAtCompany              0.527649\n",
       "Age                         0.504376\n",
       "YearsInCurrentRole          0.365401\n",
       "YearsWithCurrManager        0.357689\n",
       "YearsSinceLastPromotion     0.350071\n",
       "NumCompaniesWorked          0.138344\n",
       "Education                   0.095758\n",
       "RelationshipSatisfaction    0.035059\n",
       "MonthlyRate                 0.023419\n",
       "WorkLifeBalance             0.020497\n",
       "DailyRate                   0.009597\n",
       "StockOptionLevel           -0.002759\n",
       "EnvironmentSatisfaction    -0.005332\n",
       "TrainingTimesLastYear      -0.006785\n",
       "DistanceFromHome           -0.009285\n",
       "HourlyRate                 -0.010333\n",
       "PerformanceRating          -0.012966\n",
       "JobSatisfaction            -0.013752\n",
       "EmployeeNumber             -0.015974\n",
       "JobInvolvement             -0.019477\n",
       "PercentSalaryHike          -0.023454\n",
       "EmployeeCount                    NaN\n",
       "StandardHours                    NaN\n",
       "Name: MonthlyIncome, dtype: float64"
      ]
     },
     "execution_count": 11,
     "metadata": {},
     "output_type": "execute_result"
    }
   ],
   "source": [
    "filled.corr()[\"MonthlyIncome\"].sort_values(ascending=False)"
   ]
  },
  {
   "cell_type": "code",
   "execution_count": 12,
   "id": "4f094d12",
   "metadata": {},
   "outputs": [
    {
     "data": {
      "text/plain": [
       "TotalWorkingYears          0.780438\n",
       "YearsAtCompany             0.527649\n",
       "Age                        0.504376\n",
       "YearsInCurrentRole         0.365401\n",
       "YearsWithCurrManager       0.357689\n",
       "YearsSinceLastPromotion    0.350071\n",
       "Name: MonthlyIncome, dtype: float64"
      ]
     },
     "execution_count": 12,
     "metadata": {},
     "output_type": "execute_result"
    }
   ],
   "source": [
    "selected = filled.corr()[\"MonthlyIncome\"][(0.2 < abs(filled.corr()[\"MonthlyIncome\"])) & (abs(filled.corr()[\"MonthlyIncome\"]) < 0.9)]\n",
    "\n",
    "selected.sort_values(ascending=False)"
   ]
  },
  {
   "cell_type": "code",
   "execution_count": 13,
   "id": "a2b44f17",
   "metadata": {},
   "outputs": [],
   "source": [
    "from scipy import stats as st"
   ]
  },
  {
   "cell_type": "code",
   "execution_count": 14,
   "id": "fef7fa71",
   "metadata": {},
   "outputs": [],
   "source": [
    "est = st.linregress(x=filled[\"TotalWorkingYears\"], y=filled[\"MonthlyIncome\"])"
   ]
  },
  {
   "cell_type": "code",
   "execution_count": 15,
   "id": "e0538a86",
   "metadata": {},
   "outputs": [
    {
     "data": {
      "text/plain": [
       "LinregressResult(slope=472.6981466032998, intercept=1187.7370222035797, rvalue=0.7804379598380536, pvalue=1.2815494054493011e-247, stderr=10.918293187952655, intercept_stderr=150.1214860179005)"
      ]
     },
     "execution_count": 15,
     "metadata": {},
     "output_type": "execute_result"
    }
   ],
   "source": [
    "est"
   ]
  },
  {
   "cell_type": "code",
   "execution_count": 16,
   "id": "e1a0fa3c",
   "metadata": {
    "scrolled": true
   },
   "outputs": [
    {
     "data": {
      "text/plain": [
       "472.6981466032998"
      ]
     },
     "execution_count": 16,
     "metadata": {},
     "output_type": "execute_result"
    }
   ],
   "source": [
    "est.slope"
   ]
  },
  {
   "cell_type": "code",
   "execution_count": 17,
   "id": "a0457b1f",
   "metadata": {},
   "outputs": [
    {
     "data": {
      "text/plain": [
       "1187.7370222035797"
      ]
     },
     "execution_count": 17,
     "metadata": {},
     "output_type": "execute_result"
    }
   ],
   "source": [
    "est.intercept"
   ]
  },
  {
   "cell_type": "code",
   "execution_count": 18,
   "id": "f6946a7b",
   "metadata": {},
   "outputs": [],
   "source": [
    "def predict(x):\n",
    "    return est.slope*x+est.intercept"
   ]
  },
  {
   "cell_type": "code",
   "execution_count": 19,
   "id": "b2f9d512",
   "metadata": {},
   "outputs": [
    {
     "data": {
      "text/plain": [
       "2133.1333154101794"
      ]
     },
     "execution_count": 19,
     "metadata": {},
     "output_type": "execute_result"
    }
   ],
   "source": [
    "predict(2)"
   ]
  },
  {
   "cell_type": "markdown",
   "id": "d7c28df7",
   "metadata": {},
   "source": [
    "---\n",
    "### <p style=color:red> NOT:</p> Burada \"Total Working Years\" sütununun sonucumuza (Monthly Income) ile korelasyonunun fazla olmasından dolayı en kısa çözüm olarak bu ikisi arasında doğrudan analitik bir linear regresyon yapıp bununla bir \"predition\"da bulunuyoruz. Şimdi aşağıda başarısına bakalım:\n",
    "---"
   ]
  },
  {
   "cell_type": "code",
   "execution_count": 20,
   "id": "2ce5e5de",
   "metadata": {},
   "outputs": [
    {
     "name": "stdout",
     "output_type": "stream",
     "text": [
      "r2_score= 0.6090834091561835\n",
      "mean_squared_error= 2972.5095419789172\n"
     ]
    }
   ],
   "source": [
    "from sklearn.metrics import r2_score as r2s, mean_squared_error as mse\n",
    "\n",
    "print(\"r2_score= \"+str(r2s(filled[\"MonthlyIncome\"], predict(filled.TotalWorkingYears))) + \"\\n\" + \n",
    "      \"mean_squared_error= \"+str(mse(filled.MonthlyIncome, predict(filled.TotalWorkingYears))**0.5))"
   ]
  },
  {
   "cell_type": "code",
   "execution_count": 21,
   "id": "dada56cf",
   "metadata": {},
   "outputs": [
    {
     "data": {
      "text/plain": [
       "[<matplotlib.lines.Line2D at 0x20d57ab4d00>]"
      ]
     },
     "execution_count": 21,
     "metadata": {},
     "output_type": "execute_result"
    },
    {
     "data": {
      "image/png": "[encoded data removed]",
      "text/plain": [
       "<Figure size 432x288 with 1 Axes>"
      ]
     },
     "metadata": {
      "needs_background": "light"
     },
     "output_type": "display_data"
    }
   ],
   "source": [
    "import matplotlib.pyplot as plt\n",
    "%matplotlib inline\n",
    "\n",
    "plt.scatter(filled.TotalWorkingYears, filled.MonthlyIncome)\n",
    "plt.plot(filled.TotalWorkingYears, predict(filled.TotalWorkingYears), c=\"r\")"
   ]
  },
  {
   "cell_type": "markdown",
   "id": "113c0247",
   "metadata": {},
   "source": [
    "---\n",
    "### <p style=color:red> NOT:</p> Görüldüğü üzere tek sütun belli bir derece başarı elde edebildi ancak bu bizim için yeterli değil daha derin bir model oluşturalım şimdi: \n",
    "---"
   ]
  },
  {
   "cell_type": "code",
   "execution_count": 22,
   "id": "2eb39654",
   "metadata": {},
   "outputs": [
    {
     "name": "stdout",
     "output_type": "stream",
     "text": [
      "<class 'pandas.core.frame.DataFrame'>\n",
      "Int64Index: 1205 entries, 0 to 1469\n",
      "Data columns (total 34 columns):\n",
      " #   Column                    Non-Null Count  Dtype  \n",
      "---  ------                    --------------  -----  \n",
      " 0   Age                       1205 non-null   int64  \n",
      " 1   BusinessTravel            1205 non-null   object \n",
      " 2   DailyRate                 1205 non-null   int64  \n",
      " 3   Department                1205 non-null   object \n",
      " 4   DistanceFromHome          1205 non-null   int64  \n",
      " 5   Education                 1205 non-null   int64  \n",
      " 6   EducationField            1205 non-null   object \n",
      " 7   EmployeeCount             1205 non-null   int64  \n",
      " 8   EmployeeNumber            1205 non-null   int64  \n",
      " 9   EnvironmentSatisfaction   1205 non-null   int64  \n",
      " 10  Gender                    1205 non-null   object \n",
      " 11  HourlyRate                1205 non-null   int64  \n",
      " 12  JobInvolvement            1205 non-null   int64  \n",
      " 13  JobLevel                  1205 non-null   int64  \n",
      " 14  JobRole                   1205 non-null   object \n",
      " 15  JobSatisfaction           1205 non-null   int64  \n",
      " 16  MaritalStatus             1205 non-null   object \n",
      " 17  MonthlyIncome             1205 non-null   float64\n",
      " 18  MonthlyRate               1205 non-null   int64  \n",
      " 19  NumCompaniesWorked        1205 non-null   int64  \n",
      " 20  Over18                    1205 non-null   object \n",
      " 21  OverTime                  1205 non-null   object \n",
      " 22  PercentSalaryHike         1205 non-null   int64  \n",
      " 23  PerformanceRating         1205 non-null   int64  \n",
      " 24  RelationshipSatisfaction  1205 non-null   int64  \n",
      " 25  StandardHours             1205 non-null   int64  \n",
      " 26  StockOptionLevel          1205 non-null   int64  \n",
      " 27  TotalWorkingYears         1205 non-null   int64  \n",
      " 28  TrainingTimesLastYear     1205 non-null   int64  \n",
      " 29  WorkLifeBalance           1205 non-null   int64  \n",
      " 30  YearsAtCompany            1205 non-null   int64  \n",
      " 31  YearsInCurrentRole        1205 non-null   int64  \n",
      " 32  YearsSinceLastPromotion   1205 non-null   int64  \n",
      " 33  YearsWithCurrManager      1205 non-null   int64  \n",
      "dtypes: float64(1), int64(25), object(8)\n",
      "memory usage: 329.5+ KB\n"
     ]
    }
   ],
   "source": [
    "filled.info()"
   ]
  },
  {
   "cell_type": "code",
   "execution_count": 23,
   "id": "20180f29",
   "metadata": {},
   "outputs": [
    {
     "data": {
      "text/html": [
       "<div>\n",
       "<style scoped>\n",
       "    .dataframe tbody tr th:only-of-type {\n",
       "        vertical-align: middle;\n",
       "    }\n",
       "\n",
       "    .dataframe tbody tr th {\n",
       "        vertical-align: top;\n",
       "    }\n",
       "\n",
       "    .dataframe thead th {\n",
       "        text-align: right;\n",
       "    }\n",
       "</style>\n",
       "<table border=\"1\" class=\"dataframe\">\n",
       "  <thead>\n",
       "    <tr style=\"text-align: right;\">\n",
       "      <th></th>\n",
       "      <th>BusinessTravel</th>\n",
       "      <th>Department</th>\n",
       "      <th>EducationField</th>\n",
       "      <th>Gender</th>\n",
       "      <th>JobRole</th>\n",
       "      <th>MaritalStatus</th>\n",
       "      <th>Over18</th>\n",
       "      <th>OverTime</th>\n",
       "    </tr>\n",
       "  </thead>\n",
       "  <tbody>\n",
       "    <tr>\n",
       "      <th>937</th>\n",
       "      <td>Travel_Rarely</td>\n",
       "      <td>Research &amp; Development</td>\n",
       "      <td>Medical</td>\n",
       "      <td>Female</td>\n",
       "      <td>Manager</td>\n",
       "      <td>Divorced</td>\n",
       "      <td>Y</td>\n",
       "      <td>Yes</td>\n",
       "    </tr>\n",
       "    <tr>\n",
       "      <th>0</th>\n",
       "      <td>Travel_Rarely</td>\n",
       "      <td>Sales</td>\n",
       "      <td>Life Sciences</td>\n",
       "      <td>Female</td>\n",
       "      <td>Sales Executive</td>\n",
       "      <td>Single</td>\n",
       "      <td>Y</td>\n",
       "      <td>Yes</td>\n",
       "    </tr>\n",
       "    <tr>\n",
       "      <th>967</th>\n",
       "      <td>Travel_Rarely</td>\n",
       "      <td>Research &amp; Development</td>\n",
       "      <td>Life Sciences</td>\n",
       "      <td>Male</td>\n",
       "      <td>Laboratory Technician</td>\n",
       "      <td>Married</td>\n",
       "      <td>Y</td>\n",
       "      <td>No</td>\n",
       "    </tr>\n",
       "  </tbody>\n",
       "</table>\n",
       "</div>"
      ],
      "text/plain": [
       "    BusinessTravel              Department EducationField  Gender  \\\n",
       "937  Travel_Rarely  Research & Development        Medical  Female   \n",
       "0    Travel_Rarely                   Sales  Life Sciences  Female   \n",
       "967  Travel_Rarely  Research & Development  Life Sciences    Male   \n",
       "\n",
       "                   JobRole MaritalStatus Over18 OverTime  \n",
       "937                Manager      Divorced      Y      Yes  \n",
       "0          Sales Executive        Single      Y      Yes  \n",
       "967  Laboratory Technician       Married      Y       No  "
      ]
     },
     "execution_count": 23,
     "metadata": {},
     "output_type": "execute_result"
    }
   ],
   "source": [
    "# sayı olmayanları alıp dami variaybıl yapalım:\n",
    "\n",
    "fsd = filled.select_dtypes(exclude=\"number\")\n",
    "fsd.sample(3)"
   ]
  },
  {
   "cell_type": "code",
   "execution_count": 24,
   "id": "c6a29dd2",
   "metadata": {},
   "outputs": [
    {
     "data": {
      "text/plain": [
       "BusinessTravel    3\n",
       "Department        3\n",
       "EducationField    6\n",
       "Gender            2\n",
       "JobRole           9\n",
       "MaritalStatus     3\n",
       "Over18            1\n",
       "OverTime          2\n",
       "dtype: int64"
      ]
     },
     "execution_count": 24,
     "metadata": {},
     "output_type": "execute_result"
    }
   ],
   "source": [
    "fsd.nunique()"
   ]
  },
  {
   "cell_type": "code",
   "execution_count": 25,
   "id": "9778ae03",
   "metadata": {},
   "outputs": [
    {
     "name": "stdout",
     "output_type": "stream",
     "text": [
      "<class 'pandas.core.frame.DataFrame'>\n",
      "Int64Index: 1205 entries, 0 to 1469\n",
      "Data columns (total 21 columns):\n",
      " #   Column                             Non-Null Count  Dtype\n",
      "---  ------                             --------------  -----\n",
      " 0   BusinessTravel_Travel_Frequently   1205 non-null   uint8\n",
      " 1   BusinessTravel_Travel_Rarely       1205 non-null   uint8\n",
      " 2   Department_Research & Development  1205 non-null   uint8\n",
      " 3   Department_Sales                   1205 non-null   uint8\n",
      " 4   EducationField_Life Sciences       1205 non-null   uint8\n",
      " 5   EducationField_Marketing           1205 non-null   uint8\n",
      " 6   EducationField_Medical             1205 non-null   uint8\n",
      " 7   EducationField_Other               1205 non-null   uint8\n",
      " 8   EducationField_Technical Degree    1205 non-null   uint8\n",
      " 9   Gender_Male                        1205 non-null   uint8\n",
      " 10  JobRole_Human Resources            1205 non-null   uint8\n",
      " 11  JobRole_Laboratory Technician      1205 non-null   uint8\n",
      " 12  JobRole_Manager                    1205 non-null   uint8\n",
      " 13  JobRole_Manufacturing Director     1205 non-null   uint8\n",
      " 14  JobRole_Research Director          1205 non-null   uint8\n",
      " 15  JobRole_Research Scientist         1205 non-null   uint8\n",
      " 16  JobRole_Sales Executive            1205 non-null   uint8\n",
      " 17  JobRole_Sales Representative       1205 non-null   uint8\n",
      " 18  MaritalStatus_Married              1205 non-null   uint8\n",
      " 19  MaritalStatus_Single               1205 non-null   uint8\n",
      " 20  OverTime_Yes                       1205 non-null   uint8\n",
      "dtypes: uint8(21)\n",
      "memory usage: 34.1 KB\n"
     ]
    }
   ],
   "source": [
    "# dummies uygulananların ne hale geldiğini görmek için bunu yazdım!\n",
    "fsd_dummies = pd.get_dummies(fsd, drop_first = True)\n",
    "\n",
    "fsd_dummies.info()"
   ]
  },
  {
   "cell_type": "code",
   "execution_count": 26,
   "id": "79c22183",
   "metadata": {},
   "outputs": [],
   "source": [
    "x = pd.get_dummies(filled, drop_first=True)"
   ]
  },
  {
   "cell_type": "markdown",
   "id": "78c2bccc",
   "metadata": {},
   "source": [
    "### * \"pd.get_dummies\" uygulandı ve kullanıma hazır hale geldi.\n",
    "---"
   ]
  },
  {
   "cell_type": "markdown",
   "id": "1f493ffa",
   "metadata": {},
   "source": [
    "# <p style=\"color: orange; text-decoration: underline\"> Models </p>"
   ]
  },
  {
   "cell_type": "code",
   "execution_count": 27,
   "id": "aba56d89",
   "metadata": {},
   "outputs": [],
   "source": [
    "from sklearn.linear_model import LinearRegression, Ridge, Lasso, ElasticNet\n",
    "\n",
    "rdg = Ridge()\n",
    "lr = LinearRegression()\n",
    "la = Lasso(alpha=100)\n",
    "en = ElasticNet()"
   ]
  },
  {
   "cell_type": "code",
   "execution_count": 28,
   "id": "cf299b82",
   "metadata": {},
   "outputs": [],
   "source": [
    "a, b = x.drop(\"MonthlyIncome\", axis=1), x[\"MonthlyIncome\"]"
   ]
  },
  {
   "cell_type": "markdown",
   "id": "bde49ed5",
   "metadata": {},
   "source": [
    "---\n",
    "## <p style=color:red> Linear Regression (✔️)</p> "
   ]
  },
  {
   "cell_type": "code",
   "execution_count": 29,
   "id": "f7a408b2",
   "metadata": {},
   "outputs": [],
   "source": [
    "lr.fit(a,b)\n",
    "\n",
    "lr_pred = lr.predict(a)"
   ]
  },
  {
   "cell_type": "code",
   "execution_count": 30,
   "id": "4ab8fc60",
   "metadata": {},
   "outputs": [
    {
     "data": {
      "text/plain": [
       "0.9478332054077498"
      ]
     },
     "execution_count": 30,
     "metadata": {},
     "output_type": "execute_result"
    }
   ],
   "source": [
    "r2s(x.MonthlyIncome, lr_pred)"
   ]
  },
  {
   "cell_type": "code",
   "execution_count": 31,
   "id": "fa40318d",
   "metadata": {},
   "outputs": [
    {
     "data": {
      "text/plain": [
       "1085.8711186054825"
      ]
     },
     "execution_count": 31,
     "metadata": {},
     "output_type": "execute_result"
    }
   ],
   "source": [
    "mse(b, lr_pred) ** 0.5"
   ]
  },
  {
   "cell_type": "code",
   "execution_count": 32,
   "id": "883b02be",
   "metadata": {},
   "outputs": [
    {
     "data": {
      "text/plain": [
       "((1205, 46), (1205,))"
      ]
     },
     "execution_count": 32,
     "metadata": {},
     "output_type": "execute_result"
    }
   ],
   "source": [
    "a.shape, b.shape"
   ]
  },
  {
   "cell_type": "markdown",
   "id": "eaae1bcc",
   "metadata": {},
   "source": [
    "---\n",
    "## <p style=color:red> Ridge (❌) </p>"
   ]
  },
  {
   "cell_type": "code",
   "execution_count": 33,
   "id": "47198aa0",
   "metadata": {},
   "outputs": [],
   "source": [
    "rdg.fit(a,b)\n",
    "\n",
    "rdg_pred = rdg.predict(a)"
   ]
  },
  {
   "cell_type": "code",
   "execution_count": 34,
   "id": "18bcd13a",
   "metadata": {},
   "outputs": [
    {
     "data": {
      "text/plain": [
       "0.9477783040169663"
      ]
     },
     "execution_count": 34,
     "metadata": {},
     "output_type": "execute_result"
    }
   ],
   "source": [
    "r2s(b, rdg_pred)"
   ]
  },
  {
   "cell_type": "code",
   "execution_count": 35,
   "id": "b74a6bae",
   "metadata": {},
   "outputs": [
    {
     "data": {
      "text/plain": [
       "1086.442364721996"
      ]
     },
     "execution_count": 35,
     "metadata": {},
     "output_type": "execute_result"
    }
   ],
   "source": [
    "mse(b,rdg_pred)**0.5"
   ]
  },
  {
   "cell_type": "markdown",
   "id": "6f36a223",
   "metadata": {},
   "source": [
    "---\n",
    "## <p style=color:red> Lasso (❌) </p> "
   ]
  },
  {
   "cell_type": "code",
   "execution_count": 36,
   "id": "e1e85877",
   "metadata": {},
   "outputs": [],
   "source": [
    "la.fit(a,b)\n",
    "\n",
    "la_pred = la.predict(a)"
   ]
  },
  {
   "cell_type": "code",
   "execution_count": 37,
   "id": "9a5eaac1",
   "metadata": {},
   "outputs": [
    {
     "data": {
      "text/plain": [
       "0.9189190985139752"
      ]
     },
     "execution_count": 37,
     "metadata": {},
     "output_type": "execute_result"
    }
   ],
   "source": [
    "r2s(b, la_pred)"
   ]
  },
  {
   "cell_type": "code",
   "execution_count": 38,
   "id": "d258a3c1",
   "metadata": {},
   "outputs": [
    {
     "data": {
      "text/plain": [
       "1353.7562990669594"
      ]
     },
     "execution_count": 38,
     "metadata": {},
     "output_type": "execute_result"
    }
   ],
   "source": [
    "mse(b, la_pred)** 0.5"
   ]
  },
  {
   "cell_type": "markdown",
   "id": "42470f27",
   "metadata": {},
   "source": [
    "---\n",
    "## <p style=color:red>Elastic Net (❌)</p> "
   ]
  },
  {
   "cell_type": "code",
   "execution_count": 39,
   "id": "14813b63",
   "metadata": {},
   "outputs": [],
   "source": [
    "en.fit(a,b)\n",
    "\n",
    "en_pred = en.predict(a)"
   ]
  },
  {
   "cell_type": "code",
   "execution_count": 40,
   "id": "01e2642f",
   "metadata": {},
   "outputs": [
    {
     "data": {
      "text/plain": [
       "0.8432740436535409"
      ]
     },
     "execution_count": 40,
     "metadata": {},
     "output_type": "execute_result"
    }
   ],
   "source": [
    "r2s(b,en_pred)"
   ]
  },
  {
   "cell_type": "code",
   "execution_count": 41,
   "id": "95055591",
   "metadata": {},
   "outputs": [
    {
     "data": {
      "text/plain": [
       "1882.1388982586668"
      ]
     },
     "execution_count": 41,
     "metadata": {},
     "output_type": "execute_result"
    }
   ],
   "source": [
    "mse(b, en_pred)**0.5"
   ]
  },
  {
   "cell_type": "markdown",
   "id": "69ed2abb",
   "metadata": {},
   "source": [
    "---\n",
    "# <p style=color:orange;text-decoration:underline> Implementing the Model </p>"
   ]
  },
  {
   "cell_type": "code",
   "execution_count": 42,
   "id": "d315ca53",
   "metadata": {},
   "outputs": [
    {
     "data": {
      "text/plain": [
       "((265, 34), 265)"
      ]
     },
     "execution_count": 42,
     "metadata": {},
     "output_type": "execute_result"
    }
   ],
   "source": [
    "missing.shape, missing[\"MonthlyIncome\"].isnull().sum()"
   ]
  },
  {
   "cell_type": "code",
   "execution_count": 43,
   "id": "f80efc0f",
   "metadata": {},
   "outputs": [],
   "source": [
    "del missing[\"MonthlyIncome\"]"
   ]
  },
  {
   "cell_type": "code",
   "execution_count": 44,
   "id": "f2ad8b0f",
   "metadata": {},
   "outputs": [],
   "source": [
    "c = pd.get_dummies(missing, drop_first=True)"
   ]
  },
  {
   "cell_type": "code",
   "execution_count": 45,
   "id": "a33c6850",
   "metadata": {},
   "outputs": [
    {
     "data": {
      "text/plain": [
       "(265, 46)"
      ]
     },
     "execution_count": 45,
     "metadata": {},
     "output_type": "execute_result"
    }
   ],
   "source": [
    "c.shape"
   ]
  },
  {
   "cell_type": "code",
   "execution_count": 46,
   "id": "06bc20ca",
   "metadata": {},
   "outputs": [],
   "source": [
    "pred = lr.predict(c)"
   ]
  },
  {
   "cell_type": "code",
   "execution_count": 47,
   "id": "0581f649",
   "metadata": {},
   "outputs": [],
   "source": [
    "missing.loc[:,\"MonthlyIncome\"] = pred"
   ]
  },
  {
   "cell_type": "code",
   "execution_count": 48,
   "id": "2a4ae798",
   "metadata": {},
   "outputs": [],
   "source": [
    "results = missing.append(filled).sort_values(\"EmployeeNumber\")"
   ]
  },
  {
   "cell_type": "code",
   "execution_count": 49,
   "id": "24d13df8",
   "metadata": {},
   "outputs": [
    {
     "data": {
      "text/html": [
       "<div>\n",
       "<style scoped>\n",
       "    .dataframe tbody tr th:only-of-type {\n",
       "        vertical-align: middle;\n",
       "    }\n",
       "\n",
       "    .dataframe tbody tr th {\n",
       "        vertical-align: top;\n",
       "    }\n",
       "\n",
       "    .dataframe thead th {\n",
       "        text-align: right;\n",
       "    }\n",
       "</style>\n",
       "<table border=\"1\" class=\"dataframe\">\n",
       "  <thead>\n",
       "    <tr style=\"text-align: right;\">\n",
       "      <th></th>\n",
       "      <th>Age</th>\n",
       "      <th>BusinessTravel</th>\n",
       "      <th>DailyRate</th>\n",
       "      <th>Department</th>\n",
       "      <th>DistanceFromHome</th>\n",
       "      <th>Education</th>\n",
       "      <th>EducationField</th>\n",
       "      <th>EmployeeCount</th>\n",
       "      <th>EmployeeNumber</th>\n",
       "      <th>EnvironmentSatisfaction</th>\n",
       "      <th>Gender</th>\n",
       "      <th>HourlyRate</th>\n",
       "      <th>JobInvolvement</th>\n",
       "      <th>JobLevel</th>\n",
       "      <th>JobRole</th>\n",
       "      <th>JobSatisfaction</th>\n",
       "      <th>MaritalStatus</th>\n",
       "      <th>MonthlyRate</th>\n",
       "      <th>NumCompaniesWorked</th>\n",
       "      <th>Over18</th>\n",
       "      <th>OverTime</th>\n",
       "      <th>PercentSalaryHike</th>\n",
       "      <th>PerformanceRating</th>\n",
       "      <th>RelationshipSatisfaction</th>\n",
       "      <th>StandardHours</th>\n",
       "      <th>StockOptionLevel</th>\n",
       "      <th>TotalWorkingYears</th>\n",
       "      <th>TrainingTimesLastYear</th>\n",
       "      <th>WorkLifeBalance</th>\n",
       "      <th>YearsAtCompany</th>\n",
       "      <th>YearsInCurrentRole</th>\n",
       "      <th>YearsSinceLastPromotion</th>\n",
       "      <th>YearsWithCurrManager</th>\n",
       "      <th>MonthlyIncome</th>\n",
       "    </tr>\n",
       "  </thead>\n",
       "  <tbody>\n",
       "    <tr>\n",
       "      <th>0</th>\n",
       "      <td>41</td>\n",
       "      <td>Travel_Rarely</td>\n",
       "      <td>1102</td>\n",
       "      <td>Sales</td>\n",
       "      <td>1</td>\n",
       "      <td>2</td>\n",
       "      <td>Life Sciences</td>\n",
       "      <td>1</td>\n",
       "      <td>1</td>\n",
       "      <td>2</td>\n",
       "      <td>Female</td>\n",
       "      <td>94</td>\n",
       "      <td>3</td>\n",
       "      <td>2</td>\n",
       "      <td>Sales Executive</td>\n",
       "      <td>4</td>\n",
       "      <td>Single</td>\n",
       "      <td>19479</td>\n",
       "      <td>8</td>\n",
       "      <td>Y</td>\n",
       "      <td>Yes</td>\n",
       "      <td>11</td>\n",
       "      <td>3</td>\n",
       "      <td>1</td>\n",
       "      <td>80</td>\n",
       "      <td>0</td>\n",
       "      <td>8</td>\n",
       "      <td>0</td>\n",
       "      <td>1</td>\n",
       "      <td>6</td>\n",
       "      <td>4</td>\n",
       "      <td>0</td>\n",
       "      <td>5</td>\n",
       "      <td>5993.0</td>\n",
       "    </tr>\n",
       "    <tr>\n",
       "      <th>1</th>\n",
       "      <td>49</td>\n",
       "      <td>Travel_Frequently</td>\n",
       "      <td>279</td>\n",
       "      <td>Research &amp; Development</td>\n",
       "      <td>8</td>\n",
       "      <td>1</td>\n",
       "      <td>Life Sciences</td>\n",
       "      <td>1</td>\n",
       "      <td>2</td>\n",
       "      <td>3</td>\n",
       "      <td>Male</td>\n",
       "      <td>61</td>\n",
       "      <td>2</td>\n",
       "      <td>2</td>\n",
       "      <td>Research Scientist</td>\n",
       "      <td>2</td>\n",
       "      <td>Married</td>\n",
       "      <td>24907</td>\n",
       "      <td>1</td>\n",
       "      <td>Y</td>\n",
       "      <td>No</td>\n",
       "      <td>23</td>\n",
       "      <td>4</td>\n",
       "      <td>4</td>\n",
       "      <td>80</td>\n",
       "      <td>1</td>\n",
       "      <td>10</td>\n",
       "      <td>3</td>\n",
       "      <td>3</td>\n",
       "      <td>10</td>\n",
       "      <td>7</td>\n",
       "      <td>1</td>\n",
       "      <td>7</td>\n",
       "      <td>5130.0</td>\n",
       "    </tr>\n",
       "    <tr>\n",
       "      <th>2</th>\n",
       "      <td>37</td>\n",
       "      <td>Travel_Rarely</td>\n",
       "      <td>1373</td>\n",
       "      <td>Research &amp; Development</td>\n",
       "      <td>2</td>\n",
       "      <td>2</td>\n",
       "      <td>Other</td>\n",
       "      <td>1</td>\n",
       "      <td>4</td>\n",
       "      <td>4</td>\n",
       "      <td>Male</td>\n",
       "      <td>92</td>\n",
       "      <td>2</td>\n",
       "      <td>1</td>\n",
       "      <td>Laboratory Technician</td>\n",
       "      <td>3</td>\n",
       "      <td>Single</td>\n",
       "      <td>2396</td>\n",
       "      <td>6</td>\n",
       "      <td>Y</td>\n",
       "      <td>Yes</td>\n",
       "      <td>15</td>\n",
       "      <td>3</td>\n",
       "      <td>2</td>\n",
       "      <td>80</td>\n",
       "      <td>0</td>\n",
       "      <td>7</td>\n",
       "      <td>3</td>\n",
       "      <td>3</td>\n",
       "      <td>0</td>\n",
       "      <td>0</td>\n",
       "      <td>0</td>\n",
       "      <td>0</td>\n",
       "      <td>2090.0</td>\n",
       "    </tr>\n",
       "    <tr>\n",
       "      <th>3</th>\n",
       "      <td>33</td>\n",
       "      <td>Travel_Frequently</td>\n",
       "      <td>1392</td>\n",
       "      <td>Research &amp; Development</td>\n",
       "      <td>3</td>\n",
       "      <td>4</td>\n",
       "      <td>Life Sciences</td>\n",
       "      <td>1</td>\n",
       "      <td>5</td>\n",
       "      <td>4</td>\n",
       "      <td>Female</td>\n",
       "      <td>56</td>\n",
       "      <td>3</td>\n",
       "      <td>1</td>\n",
       "      <td>Research Scientist</td>\n",
       "      <td>3</td>\n",
       "      <td>Married</td>\n",
       "      <td>23159</td>\n",
       "      <td>1</td>\n",
       "      <td>Y</td>\n",
       "      <td>Yes</td>\n",
       "      <td>11</td>\n",
       "      <td>3</td>\n",
       "      <td>3</td>\n",
       "      <td>80</td>\n",
       "      <td>0</td>\n",
       "      <td>8</td>\n",
       "      <td>3</td>\n",
       "      <td>3</td>\n",
       "      <td>8</td>\n",
       "      <td>7</td>\n",
       "      <td>3</td>\n",
       "      <td>0</td>\n",
       "      <td>2909.0</td>\n",
       "    </tr>\n",
       "    <tr>\n",
       "      <th>4</th>\n",
       "      <td>27</td>\n",
       "      <td>Travel_Rarely</td>\n",
       "      <td>591</td>\n",
       "      <td>Research &amp; Development</td>\n",
       "      <td>2</td>\n",
       "      <td>1</td>\n",
       "      <td>Medical</td>\n",
       "      <td>1</td>\n",
       "      <td>7</td>\n",
       "      <td>1</td>\n",
       "      <td>Male</td>\n",
       "      <td>40</td>\n",
       "      <td>3</td>\n",
       "      <td>1</td>\n",
       "      <td>Laboratory Technician</td>\n",
       "      <td>2</td>\n",
       "      <td>Married</td>\n",
       "      <td>16632</td>\n",
       "      <td>9</td>\n",
       "      <td>Y</td>\n",
       "      <td>No</td>\n",
       "      <td>12</td>\n",
       "      <td>3</td>\n",
       "      <td>4</td>\n",
       "      <td>80</td>\n",
       "      <td>1</td>\n",
       "      <td>6</td>\n",
       "      <td>3</td>\n",
       "      <td>3</td>\n",
       "      <td>2</td>\n",
       "      <td>2</td>\n",
       "      <td>2</td>\n",
       "      <td>2</td>\n",
       "      <td>3468.0</td>\n",
       "    </tr>\n",
       "    <tr>\n",
       "      <th>5</th>\n",
       "      <td>32</td>\n",
       "      <td>Travel_Frequently</td>\n",
       "      <td>1005</td>\n",
       "      <td>Research &amp; Development</td>\n",
       "      <td>2</td>\n",
       "      <td>2</td>\n",
       "      <td>Life Sciences</td>\n",
       "      <td>1</td>\n",
       "      <td>8</td>\n",
       "      <td>4</td>\n",
       "      <td>Male</td>\n",
       "      <td>79</td>\n",
       "      <td>3</td>\n",
       "      <td>1</td>\n",
       "      <td>Laboratory Technician</td>\n",
       "      <td>4</td>\n",
       "      <td>Single</td>\n",
       "      <td>11864</td>\n",
       "      <td>0</td>\n",
       "      <td>Y</td>\n",
       "      <td>No</td>\n",
       "      <td>13</td>\n",
       "      <td>3</td>\n",
       "      <td>3</td>\n",
       "      <td>80</td>\n",
       "      <td>0</td>\n",
       "      <td>8</td>\n",
       "      <td>2</td>\n",
       "      <td>2</td>\n",
       "      <td>7</td>\n",
       "      <td>7</td>\n",
       "      <td>3</td>\n",
       "      <td>6</td>\n",
       "      <td>3068.0</td>\n",
       "    </tr>\n",
       "    <tr>\n",
       "      <th>6</th>\n",
       "      <td>59</td>\n",
       "      <td>Travel_Rarely</td>\n",
       "      <td>1324</td>\n",
       "      <td>Research &amp; Development</td>\n",
       "      <td>3</td>\n",
       "      <td>3</td>\n",
       "      <td>Medical</td>\n",
       "      <td>1</td>\n",
       "      <td>10</td>\n",
       "      <td>3</td>\n",
       "      <td>Female</td>\n",
       "      <td>81</td>\n",
       "      <td>4</td>\n",
       "      <td>1</td>\n",
       "      <td>Laboratory Technician</td>\n",
       "      <td>1</td>\n",
       "      <td>Married</td>\n",
       "      <td>9964</td>\n",
       "      <td>4</td>\n",
       "      <td>Y</td>\n",
       "      <td>Yes</td>\n",
       "      <td>20</td>\n",
       "      <td>4</td>\n",
       "      <td>1</td>\n",
       "      <td>80</td>\n",
       "      <td>3</td>\n",
       "      <td>12</td>\n",
       "      <td>3</td>\n",
       "      <td>2</td>\n",
       "      <td>1</td>\n",
       "      <td>0</td>\n",
       "      <td>0</td>\n",
       "      <td>0</td>\n",
       "      <td>2670.0</td>\n",
       "    </tr>\n",
       "    <tr>\n",
       "      <th>7</th>\n",
       "      <td>30</td>\n",
       "      <td>Travel_Rarely</td>\n",
       "      <td>1358</td>\n",
       "      <td>Research &amp; Development</td>\n",
       "      <td>24</td>\n",
       "      <td>1</td>\n",
       "      <td>Life Sciences</td>\n",
       "      <td>1</td>\n",
       "      <td>11</td>\n",
       "      <td>4</td>\n",
       "      <td>Male</td>\n",
       "      <td>67</td>\n",
       "      <td>3</td>\n",
       "      <td>1</td>\n",
       "      <td>Laboratory Technician</td>\n",
       "      <td>3</td>\n",
       "      <td>Divorced</td>\n",
       "      <td>13335</td>\n",
       "      <td>1</td>\n",
       "      <td>Y</td>\n",
       "      <td>No</td>\n",
       "      <td>22</td>\n",
       "      <td>4</td>\n",
       "      <td>2</td>\n",
       "      <td>80</td>\n",
       "      <td>1</td>\n",
       "      <td>1</td>\n",
       "      <td>2</td>\n",
       "      <td>3</td>\n",
       "      <td>1</td>\n",
       "      <td>0</td>\n",
       "      <td>0</td>\n",
       "      <td>0</td>\n",
       "      <td>2693.0</td>\n",
       "    </tr>\n",
       "    <tr>\n",
       "      <th>8</th>\n",
       "      <td>38</td>\n",
       "      <td>Travel_Frequently</td>\n",
       "      <td>216</td>\n",
       "      <td>Research &amp; Development</td>\n",
       "      <td>23</td>\n",
       "      <td>3</td>\n",
       "      <td>Life Sciences</td>\n",
       "      <td>1</td>\n",
       "      <td>12</td>\n",
       "      <td>4</td>\n",
       "      <td>Male</td>\n",
       "      <td>44</td>\n",
       "      <td>2</td>\n",
       "      <td>3</td>\n",
       "      <td>Manufacturing Director</td>\n",
       "      <td>3</td>\n",
       "      <td>Single</td>\n",
       "      <td>8787</td>\n",
       "      <td>0</td>\n",
       "      <td>Y</td>\n",
       "      <td>No</td>\n",
       "      <td>21</td>\n",
       "      <td>4</td>\n",
       "      <td>2</td>\n",
       "      <td>80</td>\n",
       "      <td>0</td>\n",
       "      <td>10</td>\n",
       "      <td>2</td>\n",
       "      <td>3</td>\n",
       "      <td>9</td>\n",
       "      <td>7</td>\n",
       "      <td>1</td>\n",
       "      <td>8</td>\n",
       "      <td>9526.0</td>\n",
       "    </tr>\n",
       "    <tr>\n",
       "      <th>9</th>\n",
       "      <td>36</td>\n",
       "      <td>Travel_Rarely</td>\n",
       "      <td>1299</td>\n",
       "      <td>Research &amp; Development</td>\n",
       "      <td>27</td>\n",
       "      <td>3</td>\n",
       "      <td>Medical</td>\n",
       "      <td>1</td>\n",
       "      <td>13</td>\n",
       "      <td>3</td>\n",
       "      <td>Male</td>\n",
       "      <td>94</td>\n",
       "      <td>3</td>\n",
       "      <td>2</td>\n",
       "      <td>Healthcare Representative</td>\n",
       "      <td>3</td>\n",
       "      <td>Married</td>\n",
       "      <td>16577</td>\n",
       "      <td>6</td>\n",
       "      <td>Y</td>\n",
       "      <td>No</td>\n",
       "      <td>13</td>\n",
       "      <td>3</td>\n",
       "      <td>2</td>\n",
       "      <td>80</td>\n",
       "      <td>2</td>\n",
       "      <td>17</td>\n",
       "      <td>3</td>\n",
       "      <td>2</td>\n",
       "      <td>7</td>\n",
       "      <td>7</td>\n",
       "      <td>7</td>\n",
       "      <td>7</td>\n",
       "      <td>5237.0</td>\n",
       "    </tr>\n",
       "  </tbody>\n",
       "</table>\n",
       "</div>"
      ],
      "text/plain": [
       "   Age     BusinessTravel  DailyRate              Department  \\\n",
       "0   41      Travel_Rarely       1102                   Sales   \n",
       "1   49  Travel_Frequently        279  Research & Development   \n",
       "2   37      Travel_Rarely       1373  Research & Development   \n",
       "3   33  Travel_Frequently       1392  Research & Development   \n",
       "4   27      Travel_Rarely        591  Research & Development   \n",
       "5   32  Travel_Frequently       1005  Research & Development   \n",
       "6   59      Travel_Rarely       1324  Research & Development   \n",
       "7   30      Travel_Rarely       1358  Research & Development   \n",
       "8   38  Travel_Frequently        216  Research & Development   \n",
       "9   36      Travel_Rarely       1299  Research & Development   \n",
       "\n",
       "   DistanceFromHome  Education EducationField  EmployeeCount  EmployeeNumber  \\\n",
       "0                 1          2  Life Sciences              1               1   \n",
       "1                 8          1  Life Sciences              1               2   \n",
       "2                 2          2          Other              1               4   \n",
       "3                 3          4  Life Sciences              1               5   \n",
       "4                 2          1        Medical              1               7   \n",
       "5                 2          2  Life Sciences              1               8   \n",
       "6                 3          3        Medical              1              10   \n",
       "7                24          1  Life Sciences              1              11   \n",
       "8                23          3  Life Sciences              1              12   \n",
       "9                27          3        Medical              1              13   \n",
       "\n",
       "   EnvironmentSatisfaction  Gender  HourlyRate  JobInvolvement  JobLevel  \\\n",
       "0                        2  Female          94               3         2   \n",
       "1                        3    Male          61               2         2   \n",
       "2                        4    Male          92               2         1   \n",
       "3                        4  Female          56               3         1   \n",
       "4                        1    Male          40               3         1   \n",
       "5                        4    Male          79               3         1   \n",
       "6                        3  Female          81               4         1   \n",
       "7                        4    Male          67               3         1   \n",
       "8                        4    Male          44               2         3   \n",
       "9                        3    Male          94               3         2   \n",
       "\n",
       "                     JobRole  JobSatisfaction MaritalStatus  MonthlyRate  \\\n",
       "0            Sales Executive                4        Single        19479   \n",
       "1         Research Scientist                2       Married        24907   \n",
       "2      Laboratory Technician                3        Single         2396   \n",
       "3         Research Scientist                3       Married        23159   \n",
       "4      Laboratory Technician                2       Married        16632   \n",
       "5      Laboratory Technician                4        Single        11864   \n",
       "6      Laboratory Technician                1       Married         9964   \n",
       "7      Laboratory Technician                3      Divorced        13335   \n",
       "8     Manufacturing Director                3        Single         8787   \n",
       "9  Healthcare Representative                3       Married        16577   \n",
       "\n",
       "   NumCompaniesWorked Over18 OverTime  PercentSalaryHike  PerformanceRating  \\\n",
       "0                   8      Y      Yes                 11                  3   \n",
       "1                   1      Y       No                 23                  4   \n",
       "2                   6      Y      Yes                 15                  3   \n",
       "3                   1      Y      Yes                 11                  3   \n",
       "4                   9      Y       No                 12                  3   \n",
       "5                   0      Y       No                 13                  3   \n",
       "6                   4      Y      Yes                 20                  4   \n",
       "7                   1      Y       No                 22                  4   \n",
       "8                   0      Y       No                 21                  4   \n",
       "9                   6      Y       No                 13                  3   \n",
       "\n",
       "   RelationshipSatisfaction  StandardHours  StockOptionLevel  \\\n",
       "0                         1             80                 0   \n",
       "1                         4             80                 1   \n",
       "2                         2             80                 0   \n",
       "3                         3             80                 0   \n",
       "4                         4             80                 1   \n",
       "5                         3             80                 0   \n",
       "6                         1             80                 3   \n",
       "7                         2             80                 1   \n",
       "8                         2             80                 0   \n",
       "9                         2             80                 2   \n",
       "\n",
       "   TotalWorkingYears  TrainingTimesLastYear  WorkLifeBalance  YearsAtCompany  \\\n",
       "0                  8                      0                1               6   \n",
       "1                 10                      3                3              10   \n",
       "2                  7                      3                3               0   \n",
       "3                  8                      3                3               8   \n",
       "4                  6                      3                3               2   \n",
       "5                  8                      2                2               7   \n",
       "6                 12                      3                2               1   \n",
       "7                  1                      2                3               1   \n",
       "8                 10                      2                3               9   \n",
       "9                 17                      3                2               7   \n",
       "\n",
       "   YearsInCurrentRole  YearsSinceLastPromotion  YearsWithCurrManager  \\\n",
       "0                   4                        0                     5   \n",
       "1                   7                        1                     7   \n",
       "2                   0                        0                     0   \n",
       "3                   7                        3                     0   \n",
       "4                   2                        2                     2   \n",
       "5                   7                        3                     6   \n",
       "6                   0                        0                     0   \n",
       "7                   0                        0                     0   \n",
       "8                   7                        1                     8   \n",
       "9                   7                        7                     7   \n",
       "\n",
       "   MonthlyIncome  \n",
       "0         5993.0  \n",
       "1         5130.0  \n",
       "2         2090.0  \n",
       "3         2909.0  \n",
       "4         3468.0  \n",
       "5         3068.0  \n",
       "6         2670.0  \n",
       "7         2693.0  \n",
       "8         9526.0  \n",
       "9         5237.0  "
      ]
     },
     "execution_count": 49,
     "metadata": {},
     "output_type": "execute_result"
    }
   ],
   "source": [
    "results.head(10)"
   ]
  },
  {
   "cell_type": "markdown",
   "id": "a95f658b",
   "metadata": {},
   "source": [
    "---\n",
    "## <p style=color:red> Print Out Results </p>"
   ]
  },
  {
   "cell_type": "code",
   "execution_count": 50,
   "id": "2b5832af",
   "metadata": {},
   "outputs": [],
   "source": [
    "results.to_csv(\"estimated monthly income.csv\", index=False)"
   ]
  },
  {
   "cell_type": "code",
   "execution_count": 51,
   "id": "ba4bf166",
   "metadata": {},
   "outputs": [
    {
     "data": {
      "text/html": [
       "<div>\n",
       "<style scoped>\n",
       "    .dataframe tbody tr th:only-of-type {\n",
       "        vertical-align: middle;\n",
       "    }\n",
       "\n",
       "    .dataframe tbody tr th {\n",
       "        vertical-align: top;\n",
       "    }\n",
       "\n",
       "    .dataframe thead th {\n",
       "        text-align: right;\n",
       "    }\n",
       "</style>\n",
       "<table border=\"1\" class=\"dataframe\">\n",
       "  <thead>\n",
       "    <tr style=\"text-align: right;\">\n",
       "      <th></th>\n",
       "      <th>EmployeeNumber</th>\n",
       "      <th>MonthlyIncome</th>\n",
       "    </tr>\n",
       "  </thead>\n",
       "  <tbody>\n",
       "    <tr>\n",
       "      <th>367</th>\n",
       "      <td>491</td>\n",
       "      <td>9522.109535</td>\n",
       "    </tr>\n",
       "    <tr>\n",
       "      <th>368</th>\n",
       "      <td>492</td>\n",
       "      <td>5926.321818</td>\n",
       "    </tr>\n",
       "    <tr>\n",
       "      <th>369</th>\n",
       "      <td>493</td>\n",
       "      <td>2616.691331</td>\n",
       "    </tr>\n",
       "    <tr>\n",
       "      <th>370</th>\n",
       "      <td>494</td>\n",
       "      <td>1945.659055</td>\n",
       "    </tr>\n",
       "    <tr>\n",
       "      <th>371</th>\n",
       "      <td>495</td>\n",
       "      <td>2771.446431</td>\n",
       "    </tr>\n",
       "  </tbody>\n",
       "</table>\n",
       "</div>"
      ],
      "text/plain": [
       "     EmployeeNumber  MonthlyIncome\n",
       "367             491    9522.109535\n",
       "368             492    5926.321818\n",
       "369             493    2616.691331\n",
       "370             494    1945.659055\n",
       "371             495    2771.446431"
      ]
     },
     "execution_count": 51,
     "metadata": {},
     "output_type": "execute_result"
    }
   ],
   "source": [
    "result = pd.DataFrame(columns = [\"EmployeeNumber\",\"MonthlyIncome\"])\n",
    "result[\"EmployeeNumber\"] = missing[\"EmployeeNumber\"]\n",
    "result[\"MonthlyIncome\"] = pred\n",
    "result.head()"
   ]
  },
  {
   "cell_type": "markdown",
   "id": "0e6081ee",
   "metadata": {},
   "source": [
    "### <p style=color:rgb(0,128,128)> M_Tnhn_Kr </p>\n",
    "https://github.com/M-Tnhn-Kr "
   ]
  }
 ],
 "metadata": {
  "kernelspec": {
   "display_name": "Python 3 (ipykernel)",
   "language": "python",
   "name": "python3"
  },
  "language_info": {
   "codemirror_mode": {
    "name": "ipython",
    "version": 3
   },
   "file_extension": ".py",
   "mimetype": "text/x-python",
   "name": "python",
   "nbconvert_exporter": "python",
   "pygments_lexer": "ipython3",
   "version": "3.9.12"
  }
 },
 "nbformat": 4,
 "nbformat_minor": 5
}
